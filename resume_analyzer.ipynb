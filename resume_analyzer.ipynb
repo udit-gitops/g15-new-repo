{
 "cells": [
  {
   "cell_type": "markdown",
   "metadata": {},
   "source": [
    " # **RESUME EVALUATOR**\n"
   ]
  },
  {
   "cell_type": "markdown",
   "metadata": {},
   "source": [
    "**Introduction**\n"
   ]
  },
  {
   "cell_type": "markdown",
   "metadata": {},
   "source": [
    "This project evaluates resumes by extracting skills, education, and experience using NLP techniques. It also calculates an ATS (Applicant Tracking System) score and suggests improvements based on missing skills.\n"
   ]
  },
  {
   "cell_type": "markdown",
   "metadata": {},
   "source": [
    "**Step 1: Install Dependencies**\n",
    "\n",
    "We need to install required libraries before running the project.\n"
   ]
  },
  {
   "cell_type": "code",
   "execution_count": 1,
   "metadata": {},
   "outputs": [
    {
     "name": "stdout",
     "output_type": "stream",
     "text": [
      "Requirement already satisfied: nltk in c:\\users\\udit\\anaconda3\\envs\\g15\\lib\\site-packages (3.9.1)\n",
      "Requirement already satisfied: spacy in c:\\users\\udit\\anaconda3\\envs\\g15\\lib\\site-packages (3.8.4)\n",
      "Requirement already satisfied: pdfminer.six in c:\\users\\udit\\anaconda3\\envs\\g15\\lib\\site-packages (20240706)\n",
      "Requirement already satisfied: click in c:\\users\\udit\\anaconda3\\envs\\g15\\lib\\site-packages (from nltk) (8.1.8)\n",
      "Requirement already satisfied: joblib in c:\\users\\udit\\anaconda3\\envs\\g15\\lib\\site-packages (from nltk) (1.4.2)\n",
      "Requirement already satisfied: regex>=2021.8.3 in c:\\users\\udit\\anaconda3\\envs\\g15\\lib\\site-packages (from nltk) (2024.11.6)\n",
      "Requirement already satisfied: tqdm in c:\\users\\udit\\anaconda3\\envs\\g15\\lib\\site-packages (from nltk) (4.67.1)\n",
      "Requirement already satisfied: spacy-legacy<3.1.0,>=3.0.11 in c:\\users\\udit\\anaconda3\\envs\\g15\\lib\\site-packages (from spacy) (3.0.12)\n",
      "Requirement already satisfied: spacy-loggers<2.0.0,>=1.0.0 in c:\\users\\udit\\anaconda3\\envs\\g15\\lib\\site-packages (from spacy) (1.0.5)\n",
      "Requirement already satisfied: murmurhash<1.1.0,>=0.28.0 in c:\\users\\udit\\anaconda3\\envs\\g15\\lib\\site-packages (from spacy) (1.0.12)\n",
      "Requirement already satisfied: cymem<2.1.0,>=2.0.2 in c:\\users\\udit\\anaconda3\\envs\\g15\\lib\\site-packages (from spacy) (2.0.11)\n",
      "Requirement already satisfied: preshed<3.1.0,>=3.0.2 in c:\\users\\udit\\anaconda3\\envs\\g15\\lib\\site-packages (from spacy) (3.0.9)\n",
      "Requirement already satisfied: thinc<8.4.0,>=8.3.4 in c:\\users\\udit\\anaconda3\\envs\\g15\\lib\\site-packages (from spacy) (8.3.4)\n",
      "Requirement already satisfied: wasabi<1.2.0,>=0.9.1 in c:\\users\\udit\\anaconda3\\envs\\g15\\lib\\site-packages (from spacy) (1.1.3)\n",
      "Requirement already satisfied: srsly<3.0.0,>=2.4.3 in c:\\users\\udit\\anaconda3\\envs\\g15\\lib\\site-packages (from spacy) (2.5.1)\n",
      "Requirement already satisfied: catalogue<2.1.0,>=2.0.6 in c:\\users\\udit\\anaconda3\\envs\\g15\\lib\\site-packages (from spacy) (2.0.10)\n",
      "Requirement already satisfied: weasel<0.5.0,>=0.1.0 in c:\\users\\udit\\anaconda3\\envs\\g15\\lib\\site-packages (from spacy) (0.4.1)\n",
      "Requirement already satisfied: typer<1.0.0,>=0.3.0 in c:\\users\\udit\\anaconda3\\envs\\g15\\lib\\site-packages (from spacy) (0.15.2)\n",
      "Requirement already satisfied: numpy>=1.19.0 in c:\\users\\udit\\anaconda3\\envs\\g15\\lib\\site-packages (from spacy) (2.1.3)\n",
      "Requirement already satisfied: requests<3.0.0,>=2.13.0 in c:\\users\\udit\\anaconda3\\envs\\g15\\lib\\site-packages (from spacy) (2.32.3)\n",
      "Requirement already satisfied: pydantic!=1.8,!=1.8.1,<3.0.0,>=1.7.4 in c:\\users\\udit\\anaconda3\\envs\\g15\\lib\\site-packages (from spacy) (2.10.6)\n",
      "Requirement already satisfied: jinja2 in c:\\users\\udit\\anaconda3\\envs\\g15\\lib\\site-packages (from spacy) (3.1.6)\n",
      "Requirement already satisfied: setuptools in c:\\users\\udit\\anaconda3\\envs\\g15\\lib\\site-packages (from spacy) (75.8.0)\n",
      "Requirement already satisfied: packaging>=20.0 in c:\\users\\udit\\anaconda3\\envs\\g15\\lib\\site-packages (from spacy) (24.2)\n",
      "Requirement already satisfied: langcodes<4.0.0,>=3.2.0 in c:\\users\\udit\\anaconda3\\envs\\g15\\lib\\site-packages (from spacy) (3.5.0)\n",
      "Requirement already satisfied: charset-normalizer>=2.0.0 in c:\\users\\udit\\anaconda3\\envs\\g15\\lib\\site-packages (from pdfminer.six) (3.4.1)\n",
      "Requirement already satisfied: cryptography>=36.0.0 in c:\\users\\udit\\anaconda3\\envs\\g15\\lib\\site-packages (from pdfminer.six) (44.0.2)\n",
      "Requirement already satisfied: cffi>=1.12 in c:\\users\\udit\\anaconda3\\envs\\g15\\lib\\site-packages (from cryptography>=36.0.0->pdfminer.six) (1.17.1)\n",
      "Requirement already satisfied: language-data>=1.2 in c:\\users\\udit\\anaconda3\\envs\\g15\\lib\\site-packages (from langcodes<4.0.0,>=3.2.0->spacy) (1.3.0)\n",
      "Requirement already satisfied: annotated-types>=0.6.0 in c:\\users\\udit\\anaconda3\\envs\\g15\\lib\\site-packages (from pydantic!=1.8,!=1.8.1,<3.0.0,>=1.7.4->spacy) (0.7.0)\n",
      "Requirement already satisfied: pydantic-core==2.27.2 in c:\\users\\udit\\anaconda3\\envs\\g15\\lib\\site-packages (from pydantic!=1.8,!=1.8.1,<3.0.0,>=1.7.4->spacy) (2.27.2)\n",
      "Requirement already satisfied: typing-extensions>=4.12.2 in c:\\users\\udit\\anaconda3\\envs\\g15\\lib\\site-packages (from pydantic!=1.8,!=1.8.1,<3.0.0,>=1.7.4->spacy) (4.12.2)\n",
      "Requirement already satisfied: idna<4,>=2.5 in c:\\users\\udit\\anaconda3\\envs\\g15\\lib\\site-packages (from requests<3.0.0,>=2.13.0->spacy) (3.10)\n",
      "Requirement already satisfied: urllib3<3,>=1.21.1 in c:\\users\\udit\\anaconda3\\envs\\g15\\lib\\site-packages (from requests<3.0.0,>=2.13.0->spacy) (2.3.0)\n",
      "Requirement already satisfied: certifi>=2017.4.17 in c:\\users\\udit\\anaconda3\\envs\\g15\\lib\\site-packages (from requests<3.0.0,>=2.13.0->spacy) (2025.1.31)\n",
      "Requirement already satisfied: blis<1.3.0,>=1.2.0 in c:\\users\\udit\\anaconda3\\envs\\g15\\lib\\site-packages (from thinc<8.4.0,>=8.3.4->spacy) (1.2.0)\n",
      "Requirement already satisfied: confection<1.0.0,>=0.0.1 in c:\\users\\udit\\anaconda3\\envs\\g15\\lib\\site-packages (from thinc<8.4.0,>=8.3.4->spacy) (0.1.5)\n",
      "Requirement already satisfied: colorama in c:\\users\\udit\\anaconda3\\envs\\g15\\lib\\site-packages (from tqdm->nltk) (0.4.6)\n",
      "Requirement already satisfied: shellingham>=1.3.0 in c:\\users\\udit\\anaconda3\\envs\\g15\\lib\\site-packages (from typer<1.0.0,>=0.3.0->spacy) (1.5.4)\n",
      "Requirement already satisfied: rich>=10.11.0 in c:\\users\\udit\\anaconda3\\envs\\g15\\lib\\site-packages (from typer<1.0.0,>=0.3.0->spacy) (13.9.4)\n",
      "Requirement already satisfied: cloudpathlib<1.0.0,>=0.7.0 in c:\\users\\udit\\anaconda3\\envs\\g15\\lib\\site-packages (from weasel<0.5.0,>=0.1.0->spacy) (0.21.0)\n",
      "Requirement already satisfied: smart-open<8.0.0,>=5.2.1 in c:\\users\\udit\\anaconda3\\envs\\g15\\lib\\site-packages (from weasel<0.5.0,>=0.1.0->spacy) (7.1.0)\n",
      "Requirement already satisfied: MarkupSafe>=2.0 in c:\\users\\udit\\anaconda3\\envs\\g15\\lib\\site-packages (from jinja2->spacy) (3.0.2)\n",
      "Requirement already satisfied: pycparser in c:\\users\\udit\\anaconda3\\envs\\g15\\lib\\site-packages (from cffi>=1.12->cryptography>=36.0.0->pdfminer.six) (2.22)\n",
      "Requirement already satisfied: marisa-trie>=1.1.0 in c:\\users\\udit\\anaconda3\\envs\\g15\\lib\\site-packages (from language-data>=1.2->langcodes<4.0.0,>=3.2.0->spacy) (1.2.1)\n",
      "Requirement already satisfied: markdown-it-py>=2.2.0 in c:\\users\\udit\\anaconda3\\envs\\g15\\lib\\site-packages (from rich>=10.11.0->typer<1.0.0,>=0.3.0->spacy) (3.0.0)\n",
      "Requirement already satisfied: pygments<3.0.0,>=2.13.0 in c:\\users\\udit\\anaconda3\\envs\\g15\\lib\\site-packages (from rich>=10.11.0->typer<1.0.0,>=0.3.0->spacy) (2.19.1)\n",
      "Requirement already satisfied: wrapt in c:\\users\\udit\\anaconda3\\envs\\g15\\lib\\site-packages (from smart-open<8.0.0,>=5.2.1->weasel<0.5.0,>=0.1.0->spacy) (1.17.2)\n",
      "Requirement already satisfied: mdurl~=0.1 in c:\\users\\udit\\anaconda3\\envs\\g15\\lib\\site-packages (from markdown-it-py>=2.2.0->rich>=10.11.0->typer<1.0.0,>=0.3.0->spacy) (0.1.2)\n",
      "Collecting en-core-web-sm==3.8.0\n",
      "  Downloading https://github.com/explosion/spacy-models/releases/download/en_core_web_sm-3.8.0/en_core_web_sm-3.8.0-py3-none-any.whl (12.8 MB)\n",
      "     ---------------------------------------- 0.0/12.8 MB ? eta -:--:--\n",
      "     ---------------------------------------- 0.0/12.8 MB ? eta -:--:--\n",
      "     - -------------------------------------- 0.5/12.8 MB 2.4 MB/s eta 0:00:06\n",
      "     -- ------------------------------------- 0.8/12.8 MB 2.4 MB/s eta 0:00:06\n",
      "     --- ------------------------------------ 1.0/12.8 MB 2.2 MB/s eta 0:00:06\n",
      "     ---- ----------------------------------- 1.3/12.8 MB 1.8 MB/s eta 0:00:07\n",
      "     ----- ---------------------------------- 1.8/12.8 MB 1.9 MB/s eta 0:00:06\n",
      "     ------ --------------------------------- 2.1/12.8 MB 1.7 MB/s eta 0:00:07\n",
      "     ------- -------------------------------- 2.4/12.8 MB 1.8 MB/s eta 0:00:06\n",
      "     --------- ------------------------------ 2.9/12.8 MB 1.7 MB/s eta 0:00:06\n",
      "     --------- ------------------------------ 3.1/12.8 MB 1.8 MB/s eta 0:00:06\n",
      "     ----------- ---------------------------- 3.7/12.8 MB 1.8 MB/s eta 0:00:06\n",
      "     ------------- -------------------------- 4.2/12.8 MB 1.9 MB/s eta 0:00:05\n",
      "     --------------- ------------------------ 5.0/12.8 MB 2.0 MB/s eta 0:00:04\n",
      "     ----------------- ---------------------- 5.5/12.8 MB 2.0 MB/s eta 0:00:04\n",
      "     ------------------ --------------------- 5.8/12.8 MB 2.0 MB/s eta 0:00:04\n",
      "     ------------------- -------------------- 6.3/12.8 MB 2.0 MB/s eta 0:00:04\n",
      "     --------------------- ------------------ 6.8/12.8 MB 2.0 MB/s eta 0:00:03\n",
      "     ---------------------- ----------------- 7.1/12.8 MB 2.0 MB/s eta 0:00:03\n",
      "     ----------------------- ---------------- 7.6/12.8 MB 2.0 MB/s eta 0:00:03\n",
      "     ------------------------- -------------- 8.1/12.8 MB 2.0 MB/s eta 0:00:03\n",
      "     ------------------------- -------------- 8.1/12.8 MB 2.0 MB/s eta 0:00:03\n",
      "     --------------------------- ------------ 8.7/12.8 MB 2.0 MB/s eta 0:00:03\n",
      "     ---------------------------- ----------- 9.2/12.8 MB 2.0 MB/s eta 0:00:02\n",
      "     ------------------------------ --------- 9.7/12.8 MB 2.0 MB/s eta 0:00:02\n",
      "     ------------------------------- -------- 10.2/12.8 MB 2.0 MB/s eta 0:00:02\n",
      "     --------------------------------- ------ 10.7/12.8 MB 2.1 MB/s eta 0:00:01\n",
      "     ----------------------------------- ---- 11.3/12.8 MB 2.1 MB/s eta 0:00:01\n",
      "     ------------------------------------ --- 11.5/12.8 MB 2.1 MB/s eta 0:00:01\n",
      "     ------------------------------------ --- 11.8/12.8 MB 2.1 MB/s eta 0:00:01\n",
      "     -------------------------------------- - 12.3/12.8 MB 2.1 MB/s eta 0:00:01\n",
      "     ---------------------------------------- 12.8/12.8 MB 2.1 MB/s eta 0:00:00\n",
      "\u001b[38;5;2m✔ Download and installation successful\u001b[0m\n",
      "You can now load the package via spacy.load('en_core_web_sm')\n"
     ]
    }
   ],
   "source": [
    "!pip install nltk spacy pdfminer.six\n",
    "!python -m spacy download en_core_web_sm"
   ]
  },
  {
   "cell_type": "markdown",
   "metadata": {},
   "source": [
    "**Step 2: Import Required Libraries**\n",
    "\n",
    "We import essential libraries for text extraction, tokenization, stopword removal, and Named Entity Recognition (NER).\n"
   ]
  },
  {
   "cell_type": "code",
   "execution_count": 2,
   "metadata": {},
   "outputs": [],
   "source": [
    "import spacy\n",
    "import nltk\n",
    "from nltk.tokenize import word_tokenize\n",
    "from nltk.corpus import stopwords\n",
    "from pdfminer.high_level import extract_text\n"
   ]
  },
  {
   "cell_type": "markdown",
   "metadata": {},
   "source": [
    "Download necessary NLTK datasets\n"
   ]
  },
  {
   "cell_type": "code",
   "execution_count": 3,
   "metadata": {},
   "outputs": [
    {
     "name": "stderr",
     "output_type": "stream",
     "text": [
      "[nltk_data] Downloading package punkt_tab to\n",
      "[nltk_data]     C:\\Users\\UDIT\\AppData\\Roaming\\nltk_data...\n",
      "[nltk_data]   Package punkt_tab is already up-to-date!\n",
      "[nltk_data] Downloading package stopwords to\n",
      "[nltk_data]     C:\\Users\\UDIT\\AppData\\Roaming\\nltk_data...\n",
      "[nltk_data]   Package stopwords is already up-to-date!\n"
     ]
    },
    {
     "data": {
      "text/plain": [
       "True"
      ]
     },
     "execution_count": 3,
     "metadata": {},
     "output_type": "execute_result"
    }
   ],
   "source": [
    "nltk.download('punkt_tab')\n",
    "nltk.download('stopwords')"
   ]
  },
  {
   "cell_type": "markdown",
   "metadata": {},
   "source": [
    "Load Spacy NLP model\n"
   ]
  },
  {
   "cell_type": "code",
   "execution_count": 4,
   "metadata": {},
   "outputs": [],
   "source": [
    "nlp = spacy.load(\"en_core_web_sm\")"
   ]
  },
  {
   "cell_type": "markdown",
   "metadata": {},
   "source": [
    "**Step 3: Extract Text from PDF Resume**\n",
    "\n",
    "We extract text from a given PDF resume file.\n"
   ]
  },
  {
   "cell_type": "code",
   "execution_count": 5,
   "metadata": {},
   "outputs": [],
   "source": [
    "def extract_resume_text(pdf_path):\n",
    "    text = extract_text(pdf_path)\n",
    "    return text"
   ]
  },
  {
   "cell_type": "markdown",
   "metadata": {},
   "source": [
    "**Step 4: NLP Preprocessing**\n",
    "\n",
    "We perform tokenization and stopword removal to clean the resume text.\n"
   ]
  },
  {
   "cell_type": "code",
   "execution_count": 6,
   "metadata": {},
   "outputs": [],
   "source": [
    "def preprocess_resume(text):\n",
    "    tokens = word_tokenize(text)\n",
    "    stop_words = set(stopwords.words(\"english\"))\n",
    "    filtered_tokens = [word.lower() for word in tokens if word.isalpha() and word.lower() not in stop_words]\n",
    "    return filtered_tokens"
   ]
  },
  {
   "cell_type": "markdown",
   "metadata": {},
   "source": [
    "**Step 5: Named Entity Recognition (NER)**\n",
    "\n",
    "We use NER to extract important resume sections such as skills, education, and experience.\n"
   ]
  },
  {
   "cell_type": "code",
   "execution_count": 7,
   "metadata": {},
   "outputs": [],
   "source": [
    "def extract_entities(text):\n",
    "    doc = nlp(text)\n",
    "    entities = {\"skills\": [], \"education\": [], \"experience\": []}\n",
    "    \n",
    "    for ent in doc.ents:\n",
    "        if ent.label_ in [\"ORG\", \"WORK_OF_ART\"]:\n",
    "            entities[\"skills\"].append(ent.text)\n",
    "        elif ent.label_ == \"DATE\":\n",
    "            entities[\"experience\"].append(ent.text)\n",
    "        elif ent.label_ == \"EDUCATION\":\n",
    "            entities[\"education\"].append(ent.text)\n",
    "    \n",
    "    return entities"
   ]
  },
  {
   "cell_type": "markdown",
   "metadata": {},
   "source": [
    "**Step 6: Calculate ATS Score**\n",
    "\n",
    "We compare extracted skills with an ideal skillset to compute an ATS score.\n"
   ]
  },
  {
   "cell_type": "code",
   "execution_count": 8,
   "metadata": {},
   "outputs": [],
   "source": [
    "ideal_skills = [\"python\", \"machine learning\", \"data analysis\", \"nlp\", \"sql\", \"deep learning\", \"cloud computing\"]\n",
    "\n",
    "def calculate_score(extracted_skills):\n",
    "    match_count = sum(1 for skill in extracted_skills if skill.lower() in ideal_skills)\n",
    "    score = (match_count / len(ideal_skills)) * 100\n",
    "    return round(score, 2)"
   ]
  },
  {
   "cell_type": "markdown",
   "metadata": {},
   "source": [
    "**Step 7: Suggest Resume Improvements**\n",
    "\n",
    "We identify missing skills and provide improvement suggestions.\n"
   ]
  },
  {
   "cell_type": "code",
   "execution_count": 9,
   "metadata": {},
   "outputs": [],
   "source": [
    "def suggest_improvements(extracted_skills):\n",
    "    missing_skills = [skill for skill in ideal_skills if skill.lower() not in extracted_skills]\n",
    "    return missing_skills if missing_skills else [\"Your resume is excellent!\"]"
   ]
  },
  {
   "cell_type": "markdown",
   "metadata": {},
   "source": [
    "**Step 8: Test the System with a Sample Resume PDF**\n",
    "\n",
    "We run the entire process on a sample resume and display the results.\n"
   ]
  },
  {
   "cell_type": "code",
   "execution_count": 11,
   "metadata": {},
   "outputs": [
    {
     "name": "stdout",
     "output_type": "stream",
     "text": [
      "\n",
      "Resume Analysis Result:\n",
      "Extracted Skills: ['MBM UNIVERSITY\\nBachelor of Engineering-\\n\\nComputer Science\\n', 'XII', 'JavaScript', 'MySQL\\n\\nHTML5', 'Canva, Figma', 'Arduino', 'Computer Networks\\nLogic Design', 'MBM University', 'Harmonium', 'Operations', 'MATLAB', 'Arduino Uno', 'IIT', 'NLP', 'Arduino', 'IR']\n",
      "Extracted Education: []\n",
      "Extracted Experience: ['7976434666', '2023-2027', '2020', 'June 2023 - July 2023']\n",
      "ATS Score: 14.29%\n",
      "Suggested Improvements: ['python', 'machine learning', 'data analysis', 'nlp', 'sql', 'deep learning', 'cloud computing']\n"
     ]
    }
   ],
   "source": [
    "def main():\n",
    "    pdf_path = r\"C:\\Users\\UDIT\\Downloads\\resumeudit (4).pdf\" \n",
    "    resume_text = extract_resume_text(pdf_path)\n",
    "    tokens = preprocess_resume(resume_text)\n",
    "    entities = extract_entities(resume_text)\n",
    "    \n",
    "    score = calculate_score(entities[\"skills\"])\n",
    "    improvements = suggest_improvements(entities[\"skills\"])\n",
    "    \n",
    "    print(\"\\nResume Analysis Result:\")\n",
    "    print(f\"Extracted Skills: {entities['skills']}\")\n",
    "    print(f\"Extracted Education: {entities['education']}\")\n",
    "    print(f\"Extracted Experience: {entities['experience']}\")\n",
    "    print(f\"ATS Score: {score}%\")\n",
    "    print(f\"Suggested Improvements: {improvements}\")\n",
    "\n",
    "main()"
   ]
  },
  {
   "cell_type": "markdown",
   "metadata": {},
   "source": [
    "**Conclusion**\n",
    "\n",
    "- This project extracts text from resumes, cleans it, and applies NLP techniques to extract key details.\n",
    "- It calculates an ATS score based on relevant skills.\n",
    "- Finally, it suggests improvements to enhance the resume quality.\n"
   ]
  }
 ],
 "metadata": {
  "kernelspec": {
   "display_name": "g15",
   "language": "python",
   "name": "python3"
  },
  "language_info": {
   "codemirror_mode": {
    "name": "ipython",
    "version": 3
   },
   "file_extension": ".py",
   "mimetype": "text/x-python",
   "name": "python",
   "nbconvert_exporter": "python",
   "pygments_lexer": "ipython3",
   "version": "3.12.9"
  }
 },
 "nbformat": 4,
 "nbformat_minor": 2
}
